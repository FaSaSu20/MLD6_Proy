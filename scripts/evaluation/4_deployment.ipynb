{
  "nbformat": 4,
  "nbformat_minor": 0,
  "metadata": {
    "colab": {
      "provenance": [],
      "gpuType": "T4"
    },
    "kernelspec": {
      "name": "python3",
      "display_name": "Python 3"
    },
    "language_info": {
      "name": "python"
    },
    "accelerator": "GPU"
  },
  "cells": [
    {
      "cell_type": "code",
      "source": [
        "#!pip install mlflow==2.1.0 requests\n",
        "#!pip install pyngrok"
      ],
      "metadata": {
        "id": "51i1eopuaxrx"
      },
      "execution_count": 1,
      "outputs": []
    },
    {
      "cell_type": "code",
      "execution_count": 2,
      "metadata": {
        "id": "GS49RImnR9GA"
      },
      "outputs": [],
      "source": [
        "import pandas as pd\n",
        "import matplotlib.pyplot as plt\n",
        "import seaborn as sns\n",
        "import numpy as np\n",
        "from sklearn.metrics import *\n",
        "from sklearn.model_selection import train_test_split\n",
        "from keras.models import Sequential\n",
        "from keras.layers import Dense, LSTM\n",
        "\n",
        "import mlflow\n",
        "import os\n",
        "from IPython.display import display\n",
        "import tensorflow as tf"
      ]
    },
    {
      "cell_type": "code",
      "source": [
        "command = \"\"\"\n",
        "mlflow server \\\n",
        "        --backend-store-uri sqlite:///tracking.db \\\n",
        "        --default-artifact-root file:mlruns \\\n",
        "        -p 5000 &\n",
        "\"\"\"\n",
        "get_ipython().system_raw(command)"
      ],
      "metadata": {
        "id": "Bcj422-za6jY"
      },
      "execution_count": 3,
      "outputs": []
    },
    {
      "cell_type": "code",
      "source": [
        "token = \"2QiqRXPGx995tJ7wDJQeofnMlXJ_2h8Rnbtfm2mJCK3h8ro8B\" # Agregue el token dentro de las comillas\n",
        "os.environ[\"NGROK_TOKEN\"] = token"
      ],
      "metadata": {
        "id": "2cv6MLvOa91Y"
      },
      "execution_count": 4,
      "outputs": []
    },
    {
      "cell_type": "code",
      "source": [
        "!ngrok authtoken $NGROK_TOKEN"
      ],
      "metadata": {
        "colab": {
          "base_uri": "https://localhost:8080/"
        },
        "id": "5ieFfMx0b-JR",
        "outputId": "b40afebb-97c7-4aa7-9a3c-1823603ba975"
      },
      "execution_count": 5,
      "outputs": [
        {
          "output_type": "stream",
          "name": "stdout",
          "text": [
            "Authtoken saved to configuration file: /root/.ngrok2/ngrok.yml\n"
          ]
        }
      ]
    },
    {
      "cell_type": "code",
      "source": [
        "from pyngrok import ngrok\n",
        "ngrok.connect(5000, \"http\")"
      ],
      "metadata": {
        "colab": {
          "base_uri": "https://localhost:8080/"
        },
        "id": "43VdDLs5b_P3",
        "outputId": "52dd2bbe-197c-4bca-90a3-15554b15b23a"
      },
      "execution_count": 6,
      "outputs": [
        {
          "output_type": "stream",
          "name": "stderr",
          "text": [
            "WARNING:pyngrok.process.ngrok:t=2023-06-28T01:35:10+0000 lvl=warn msg=\"ngrok config file found at legacy location, move to XDG location\" xdg_path=/root/.config/ngrok/ngrok.yml legacy_path=/root/.ngrok2/ngrok.yml\n"
          ]
        },
        {
          "output_type": "execute_result",
          "data": {
            "text/plain": [
              "<NgrokTunnel: \"https://a624-34-121-80-186.ngrok-free.app\" -> \"http://localhost:5000\">"
            ]
          },
          "metadata": {},
          "execution_count": 6
        }
      ]
    },
    {
      "cell_type": "code",
      "source": [
        "mlflow.set_tracking_uri(\"http://localhost:5000\")"
      ],
      "metadata": {
        "id": "40tU3_rjcBUv"
      },
      "execution_count": 7,
      "outputs": []
    },
    {
      "cell_type": "code",
      "source": [
        "exp_id = mlflow.create_experiment(name=\"MLDS61\", artifact_location=\"mlruns/\")"
      ],
      "metadata": {
        "id": "ecEP3pDUcGAn"
      },
      "execution_count": 9,
      "outputs": []
    },
    {
      "cell_type": "code",
      "source": [
        "df = pd.read_csv(\"https://raw.githubusercontent.com/FaSaSu20/MLD6_Proy/master/src/nombre_paquete/database/data.csv\") # Cargo otros datos parecidos\n",
        "df[\"Fecha\"] = pd.to_datetime(df['Fecha'].astype(str), format ='%Y-%m-%d %H:%M:%S')\n",
        "df = df[[\"Fecha\" ,\"AGUA\", \"CARBON\", \"GAS\", \"LIQUIDOS\", \"PPP Bolsa diario\"]]\n",
        "\n",
        "x = df[[\"AGUA\", \"CARBON\", \"GAS\", \"LIQUIDOS\"]].to_numpy()\n",
        "y = df[[\"PPP Bolsa diario\"]].to_numpy()\n",
        "X_train, X_test, y_train, y_test = train_test_split(x, y, test_size=0.2, shuffle = False)"
      ],
      "metadata": {
        "id": "zdfim-V1gXDO"
      },
      "execution_count": 10,
      "outputs": []
    },
    {
      "cell_type": "code",
      "source": [
        "with mlflow.start_run(\n",
        "        run_name=\"MLDS\",\n",
        "        experiment_id=exp_id\n",
        "        ):\n",
        "    model = Sequential()\n",
        "    model.add(LSTM(128, return_sequences=True, input_shape= (X_train.shape[1], 1)))\n",
        "    model.add(LSTM(64, return_sequences=False))\n",
        "    model.add(Dense(25))\n",
        "    model.add(Dense(1))\n",
        "    model.compile(optimizer = 'adam', loss = 'mean_squared_error')\n",
        "    model.fit(X_train, y_train, epochs = 50, verbose = 0)\n",
        "    y_pred = model.predict(X_test)\n",
        "    #mlflow.log_metric(\"accuracy\", accuracy_score(y_test, y_pred))\n",
        "    mlflow.tensorflow.log_model(model, \"model\")"
      ],
      "metadata": {
        "colab": {
          "base_uri": "https://localhost:8080/"
        },
        "id": "-RZHQK3DcJYv",
        "outputId": "e7c584c1-d450-4638-f3cc-0f11e4cc1f11"
      },
      "execution_count": 11,
      "outputs": [
        {
          "output_type": "stream",
          "name": "stdout",
          "text": [
            "17/17 [==============================] - 1s 3ms/step\n"
          ]
        },
        {
          "output_type": "stream",
          "name": "stderr",
          "text": [
            "2023/06/28 01:36:50 WARNING mlflow.tensorflow: You are saving a TensorFlow Core model or Keras model without a signature. Inference with mlflow.pyfunc.spark_udf() will not work unless the model's pyfunc representation accepts pandas DataFrames as inference inputs.\n",
            "WARNING:absl:Found untraced functions such as lstm_cell_layer_call_fn, lstm_cell_layer_call_and_return_conditional_losses, lstm_cell_1_layer_call_fn, lstm_cell_1_layer_call_and_return_conditional_losses while saving (showing 4 of 4). These functions will not be directly callable after loading.\n",
            "2023/06/28 01:37:08 WARNING mlflow.utils.requirements_utils: Found jaxlib version (0.4.10+cuda11.cudnn86) contains a local version label (+cuda11.cudnn86). MLflow logged a pip requirement for this package as 'jaxlib==0.4.10' without the local version label to make it installable from PyPI. To specify pip requirements containing local version labels, please use `conda_env` or `pip_requirements`.\n",
            "/usr/local/lib/python3.10/dist-packages/_distutils_hack/__init__.py:33: UserWarning: Setuptools is replacing distutils.\n",
            "  warnings.warn(\"Setuptools is replacing distutils.\")\n"
          ]
        }
      ]
    },
    {
      "cell_type": "code",
      "source": [
        "import os\n",
        "os.environ[\"MLFLOW_TRACKING_URI\"] = \"http://localhost:5000\""
      ],
      "metadata": {
        "id": "Zr14_CmUiPCb"
      },
      "execution_count": 12,
      "outputs": []
    },
    {
      "cell_type": "code",
      "source": [
        "command = \"\"\"\n",
        "mlflow models serve -m 'models:/MLDS/Production' -p 8001 --env-manager 'local' &\n",
        "\"\"\"\n",
        "get_ipython().system_raw(command)"
      ],
      "metadata": {
        "id": "G6NBOwNUk5FK"
      },
      "execution_count": 13,
      "outputs": []
    },
    {
      "cell_type": "code",
      "source": [
        "import requests"
      ],
      "metadata": {
        "id": "1Pd4jaKAk6GJ"
      },
      "execution_count": 14,
      "outputs": []
    },
    {
      "cell_type": "code",
      "source": [
        "data_request = X_test[:5].tolist()\n",
        "display(data_request)"
      ],
      "metadata": {
        "colab": {
          "base_uri": "https://localhost:8080/",
          "height": 208
        },
        "id": "533xyFyGk7fJ",
        "outputId": "6ea7bd3d-dcfd-45d1-e0c3-f1b47e5b6e80"
      },
      "execution_count": 15,
      "outputs": [
        {
          "output_type": "display_data",
          "data": {
            "text/plain": [
              "[[155.06645057344204,\n",
              "  180.4996641791045,\n",
              "  473.88399236499447,\n",
              "  534.1337725118483],\n",
              " [142.57854857756303, 181.2399432624114, 473.9302877365304, 543.9558346430122],\n",
              " [147.4291861791115, 181.2381683305328, 474.01134920864206, 533.2130350990418],\n",
              " [162.87133979678893,\n",
              "  171.99727480314965,\n",
              "  474.0524742370154,\n",
              "  563.4218205948696],\n",
              " [183.3498652755452, 167.34445433070866, 473.6963098986814, 563.4218205948696]]"
            ]
          },
          "metadata": {}
        }
      ]
    },
    {
      "cell_type": "code",
      "source": [
        "r = requests.post(\"http://localhost:8001/invocations\", json={\"inputs\": data_request})\n",
        "print(r.text)"
      ],
      "metadata": {
        "colab": {
          "base_uri": "https://localhost:8080/"
        },
        "id": "fbA3hTHflBKh",
        "outputId": "15508294-0890-4304-890d-184dd4ac867e"
      },
      "execution_count": 16,
      "outputs": [
        {
          "output_type": "stream",
          "name": "stdout",
          "text": [
            "{\"predictions\": [[197.69068908691406], [180.2627716064453], [186.8044891357422], [209.0049591064453], [238.44163513183594]]}\n"
          ]
        }
      ]
    }
  ]
}